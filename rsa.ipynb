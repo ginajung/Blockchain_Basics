{
 "cells": [
  {
   "cell_type": "markdown",
   "metadata": {},
   "source": [
    "## 1. Implementing RSA encryption in Python\n",
    "###  RSA\n",
    "The RSA Cryptosystem was publicly proposed by Ron Rivest, Adi Shamir and Len Adleman A method for obtaining digital signatures and public-key cryptosystems.\n",
    "Suggested reading: Twenty years of attacks on the RSA cryptosystem\n",
    "\n",
    "### RSA key generation\n",
    "Generate two random primes p and q\n",
    "Generate a public exponent, e (often e=65537)\n",
    "Set $n=pq$\n",
    "The public key is the pair n,e\n",
    "Set $ ϕ(n)=(p−1)(q−1)$\n",
    "Set $d=e^{−1} mod ϕ(n)$\n",
    "The private key is $d$\n",
    "\n",
    "### “textbook” RSA encryption\n",
    "Warning the simplified, “textbook,” RSA encryption used in this module is insecure and should not be used in practice!\n",
    "To encrypt a message m (where m is an integer in the range $0<m<n$)\n",
    "Set $c=m^{e} mod n$\n",
    "Output the ciphertext $c$\n",
    "### “textbook” RSA decryption\n",
    "Given a ciphertext, $c$, set $m=c^{d} mod n$\n",
    "### “textbook” RSA in Python\n",
    "Using the the template provided (“rsa.py”) implement the “textbook” RSA algorithm described above.\n",
    "We “rsa_util” file contains two functions is_prime and mod_inverse that will be useful in your code.\n",
    "Your code should have three functions\n",
    "\n",
    "RSAKeygen – Takes as input a bit length, bitlen, and generates two primes of length bitlen, and outputs a pair, [n,d]\n",
    "\n",
    "RSAEncrypt – Takes as input a public key, $m$ and $a$ message $m$ and outputs a ciphertext $c=m^{e} mod n$. You may assume that $m$ is an integer with $m<n$\n",
    "\n",
    "RSADecrypt – Takes as input a public key, n, a private key $d$ and a ciphertext $c$ and outputs $m=c^{d} mod n$\n",
    "Use random.SystemRandom() to generate random numbers.\n",
    "a = random.SystemRandom().randint(5,10) #Generates a random integer between 5 and 10"
   ]
  },
  {
   "cell_type": "code",
   "execution_count": 1,
   "metadata": {},
   "outputs": [],
   "source": [
    "import random\n",
    "from rsa_util import mod_inverse\n",
    "from rsa_util import is_prime\n",
    "\n",
    "#The encryption exponent, e\n",
    "\n",
    "e = 65537\n",
    "\n",
    "def RSAKeygen(bitlen):\n",
    "    while(True):\n",
    "        p = random.SystemRandom().randint(1,pow(2,bitlen))\n",
    "        if (is_prime(p)): \n",
    "            while(True):\n",
    "                q = random.SystemRandom().randint(1,pow(2,bitlen))\n",
    "                if (is_prime(q)):\n",
    "                    n = p*q\n",
    "                    d = mod_inverse(e,(p-1)*(q-1))\n",
    "                    return [n,d]\n",
    "                else:\n",
    "                    continue\n",
    "        else:\n",
    "            continue\n",
    "\n",
    "def RSAEncrypt(n,m):\n",
    "\tc = pow(m,e,n)\n",
    "\t\n",
    "\treturn c\n",
    "\n",
    "def RSADecrypt(n,d,c):\n",
    "\tm = pow (c,d,n)\n",
    "\t\n",
    "\treturn m\n",
    "\n"
   ]
  },
  {
   "cell_type": "code",
   "execution_count": 2,
   "metadata": {},
   "outputs": [],
   "source": [
    "rsak =RSAKeygen(1024)\n",
    "n=rsak[0]\n",
    "d=rsak[1]"
   ]
  },
  {
   "cell_type": "code",
   "execution_count": 3,
   "metadata": {},
   "outputs": [],
   "source": [
    "c=RSAEncrypt(n, 22)"
   ]
  },
  {
   "cell_type": "code",
   "execution_count": 4,
   "metadata": {},
   "outputs": [
    {
     "data": {
      "text/plain": [
       "22"
      ]
     },
     "execution_count": 4,
     "metadata": {},
     "output_type": "execute_result"
    }
   ],
   "source": [
    "RSADecrypt(n,d,c)"
   ]
  },
  {
   "cell_type": "code",
   "execution_count": null,
   "metadata": {},
   "outputs": [],
   "source": []
  }
 ],
 "metadata": {
  "kernelspec": {
   "display_name": "Python 3",
   "language": "python",
   "name": "python3"
  },
  "language_info": {
   "codemirror_mode": {
    "name": "ipython",
    "version": 3
   },
   "file_extension": ".py",
   "mimetype": "text/x-python",
   "name": "python",
   "nbconvert_exporter": "python",
   "pygments_lexer": "ipython3",
   "version": "3.8.5"
  }
 },
 "nbformat": 4,
 "nbformat_minor": 4
}
