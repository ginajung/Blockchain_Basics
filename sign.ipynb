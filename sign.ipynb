{
 "cells": [
  {
   "cell_type": "markdown",
   "metadata": {},
   "source": [
    "### Generating ECDSA signatures\n",
    "\n",
    "Using the FastECDSA library, “sign,” that takes in a single message m, and, creates a new key-pair for an ECDSA signature scheme,and signs the message m. \n",
    "This function returns the ECDSA public key and the signature.\n",
    "ECDSA signature consists of 2 integers, r,s. \n",
    "\n",
    "When using the FastECDSA library, you need to specify the elliptic curve and the hash function. \n",
    "This function should use the curve SECP256K1 (the “Bitcoin” curve) and the hash functions SHA256."
   ]
  },
  {
   "cell_type": "code",
   "execution_count": null,
   "metadata": {},
   "outputs": [],
   "source": [
    "from fastecdsa.curve import secp256k1\n",
    "from fastecdsa.keys import export_key, gen_keypair\n",
    "\n",
    "from fastecdsa import curve, ecdsa, keys, point\n",
    "from hashlib import sha256\n",
    "import random\n",
    "\n",
    "\n",
    "def sign(m):\n",
    "# private key\n",
    "    d = random.SystemRandom().randint(1,n-1)\n",
    "    g = secp256k1.G\n",
    "    n = secp256k1.q\n",
    "    \n",
    "    #generate public key d*g\n",
    "    public_key = keys.get_public_key(d,secp256k1)\n",
    "\n",
    "    #d, publick_key = keys.gen_keypair(secp256k1)\n",
    "    x1=public_key.x\n",
    "    y1=public_key.y\n",
    "    \n",
    "\t#generate signature\n",
    "    r = pow(x1,1,n)\n",
    "    if (r==0):\n",
    "        d = random.SystemRandom().randint(1,n-1)\n",
    "        \n",
    "    z = sha256( m )\n",
    "    s = pow(d,-1,n)* pow(z+rd,1,n)\n",
    "    if (s ==0):\n",
    "        d = random.SystemRandom().randint(1,n-1)\n",
    "        \n",
    "    #r,s = fastecdsa.ecdsa.sign(m, d, secp256k1, sha256)\n",
    "\n",
    "    assert isinstance( public_key, point.Point )\n",
    "    assert isinstance( r, int)\n",
    "    assert isinstance( s, int)\n",
    "    return( public_key, [r,s])"
   ]
  },
  {
   "cell_type": "code",
   "execution_count": null,
   "metadata": {},
   "outputs": [],
   "source": []
  }
 ],
 "metadata": {
  "kernelspec": {
   "display_name": "Python 3",
   "language": "python",
   "name": "python3"
  },
  "language_info": {
   "codemirror_mode": {
    "name": "ipython",
    "version": 3
   },
   "file_extension": ".py",
   "mimetype": "text/x-python",
   "name": "python",
   "nbconvert_exporter": "python",
   "pygments_lexer": "ipython3",
   "version": "3.8.5"
  }
 },
 "nbformat": 4,
 "nbformat_minor": 4
}
